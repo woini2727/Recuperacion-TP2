{
 "cells": [
  {
   "cell_type": "code",
   "execution_count": 1,
   "metadata": {
    "pycharm": {}
   },
   "outputs": [],
   "source": [
    "import tokenizer\n",
    "import numpy as np\n",
    "from matplotlib import pyplot as plt"
   ]
  },
  {
   "cell_type": "markdown",
   "metadata": {
    "collapsed": true,
    "pycharm": {}
   },
   "source": [
    "Ley de Zipf:  r = (f - c) / m\n",
    "\n"
   ]
  },
  {
   "cell_type": "code",
   "execution_count": 3,
   "metadata": {
    "pycharm": {}
   },
   "outputs": [],
   "source": [
    "def ranking_by_frequency(f, c, m):\n",
    "    # Our adjusted curve is represented in log-log scale, so we have to scale the lineal frequency received\n",
    "    f = np.log(f)\n",
    "    # Then, scale the result back to lineal\n",
    "    return np.exp((f - c) / m)\n",
    "\n",
    "def terms_with_frequency(f):\n",
    "    rank_x = ranking_by_frequency(f)\n",
    "    # Next in ranking\n",
    "    rank_next = ranking_by_frequency(f-1)\n",
    "    print(\"Predicted rank of term with frequency \" + str(f) + \": \" + str(rank_x))\n",
    "    print(\"Predicted rank of term with frequency \" + str(f-1) + \": \" + str(rank_next))\n",
    "    print(\"Predicted terms with frequency \" + str(f) + \": \" + str(rank_next - rank_x))\n",
    "    \n",
    "    lista_terminos = []\n",
    "    dicc={}\n",
    "\n",
    "    with open(\"stop-words.txt\", encoding=\"UTF-8\") as stop_words:\n",
    "        filedata = stop_words.read()\n",
    "        lista_vacias=filedata.split(\"\\n\")\n",
    "    with open(\"ej7/quijote.txt\", encoding=\"utf-8\",errors=\"ignore\") as f:\n",
    "        filedata=f.read()\n",
    "        lista_tokens=tokenizer.tokenizar(filedata)\n",
    "        lista_tokens=tokenizer.sacar_palabras_vacias(lista_tokens,lista_vacias)\n",
    "\n",
    "        for token in lista_tokens:\n",
    "            if token not in lista_terminos:\n",
    "               lista_terminos.append(token) \n",
    "               dicc[token]=1\n",
    "            else:\n",
    "               cf=dicc[token]\n",
    "               cf=cf+1\n",
    "               dicc[token]=cf \n",
    "        print(dicc)\n",
    "    ordered_terms = sorted(dicc.values(), reverse=True)  ####!!!!!!!!!\n",
    "    lista_freq=[]\n",
    "    for token in ordered_terms:\n",
    "        cf=token\n",
    "        lista_freq.append(cf)\n",
    "    print (lista_freq)\n",
    "\n",
    "    x = range(1, len(lista_freq)+1)\n",
    "    y = lista_freq\n",
    "    log_x = np.log(x)\n",
    "    log_y = np.log(y)\n",
    "\n",
    "\n",
    "    coeficients = np.polyfit(log_x, log_y, 1)\n",
    "    adjusted_curve = np.poly1d(coeficients)\n",
    "    log_y_pred = adjusted_curve(log_x)\n",
    "    y_pred = [np.exp(y) for y in log_y_pred]\n",
    "    m = coeficients[0]\n",
    "    c = coeficients[1]\n",
    "\n",
    "\n",
    "\n",
    "    f_list = [100, 1000, 10000]\n",
    "    for f in f_list:\n",
    "        terms_with_frequency(f)"
   ]
  },
  {
   "cell_type": "code",
   "execution_count": null,
   "metadata": {
    "pycharm": {}
   },
   "outputs": [],
   "source": [
    "\n",
    "\n"
   ]
  },
  {
   "cell_type": "code",
   "execution_count": null,
   "metadata": {},
   "outputs": [],
   "source": []
  }
 ],
 "metadata": {
  "kernelspec": {
   "display_name": "Python 3",
   "language": "python",
   "name": "python3"
  },
  "language_info": {
   "codemirror_mode": {
    "name": "ipython",
    "version": 3
   },
   "file_extension": ".py",
   "mimetype": "text/x-python",
   "name": "python",
   "nbconvert_exporter": "python",
   "pygments_lexer": "ipython3",
   "version": "3.7.2"
  }
 },
 "nbformat": 4,
 "nbformat_minor": 1
}
